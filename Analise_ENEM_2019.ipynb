{
 "cells": [
  {
   "cell_type": "code",
   "execution_count": 5,
   "metadata": {},
   "outputs": [],
   "source": [
    "import pandas as pd\n",
    "import zipfile\n",
    "import requests\n",
    "from io import BytesIO\n",
    "import os"
   ]
  },
  {
   "cell_type": "code",
   "execution_count": 6,
   "metadata": {},
   "outputs": [],
   "source": [
    "url = 'https://download.inep.gov.br/microdados/microdados_enem_2019.zip'"
   ]
  },
  {
   "cell_type": "code",
   "execution_count": 12,
   "metadata": {},
   "outputs": [],
   "source": [
    "os.makedirs('enem', exist_ok=True)\n",
    "filebytes = BytesIO(requests.get(url, stream=True).content)\n",
    "\n",
    "myzip = zipfile.ZipFile(filebytes)\n",
    "myzip.extractall('enem')"
   ]
  },
  {
   "cell_type": "code",
   "execution_count": 13,
   "metadata": {},
   "outputs": [],
   "source": [
    "#Biblioteca que auxilia carregar dados que excedem a \n",
    "#capacidade de memoria do computador, trabalhando no disco\n",
    "import dask.dataframe as dd"
   ]
  },
  {
   "cell_type": "code",
   "execution_count": 18,
   "metadata": {},
   "outputs": [],
   "source": [
    "data = dd.read_csv('./enem/DADOS/MICRODADOS_ENEM_2019.csv', sep = ';', decimal=',', encoding='latin1', dtype={'NU_IDADE':'float64'})"
   ]
  },
  {
   "cell_type": "code",
   "execution_count": 84,
   "metadata": {},
   "outputs": [],
   "source": [
    "data = data.loc[data.SG_UF_RESIDENCIA == 'MG']"
   ]
  },
  {
   "cell_type": "code",
   "execution_count": 20,
   "metadata": {},
   "outputs": [],
   "source": [
    "data = data.compute()"
   ]
  },
  {
   "cell_type": "code",
   "execution_count": 21,
   "metadata": {},
   "outputs": [
    {
     "data": {
      "text/plain": [
       "(538896, 136)"
      ]
     },
     "execution_count": 21,
     "metadata": {},
     "output_type": "execute_result"
    }
   ],
   "source": [
    "data.shape"
   ]
  },
  {
   "cell_type": "code",
   "execution_count": 22,
   "metadata": {},
   "outputs": [
    {
     "data": {
      "text/html": [
       "<div>\n",
       "<style scoped>\n",
       "    .dataframe tbody tr th:only-of-type {\n",
       "        vertical-align: middle;\n",
       "    }\n",
       "\n",
       "    .dataframe tbody tr th {\n",
       "        vertical-align: top;\n",
       "    }\n",
       "\n",
       "    .dataframe thead th {\n",
       "        text-align: right;\n",
       "    }\n",
       "</style>\n",
       "<table border=\"1\" class=\"dataframe\">\n",
       "  <thead>\n",
       "    <tr style=\"text-align: right;\">\n",
       "      <th></th>\n",
       "      <th>NU_INSCRICAO</th>\n",
       "      <th>NU_ANO</th>\n",
       "      <th>CO_MUNICIPIO_RESIDENCIA</th>\n",
       "      <th>NO_MUNICIPIO_RESIDENCIA</th>\n",
       "      <th>CO_UF_RESIDENCIA</th>\n",
       "      <th>SG_UF_RESIDENCIA</th>\n",
       "      <th>NU_IDADE</th>\n",
       "      <th>TP_SEXO</th>\n",
       "      <th>TP_ESTADO_CIVIL</th>\n",
       "      <th>TP_COR_RACA</th>\n",
       "      <th>...</th>\n",
       "      <th>Q016</th>\n",
       "      <th>Q017</th>\n",
       "      <th>Q018</th>\n",
       "      <th>Q019</th>\n",
       "      <th>Q020</th>\n",
       "      <th>Q021</th>\n",
       "      <th>Q022</th>\n",
       "      <th>Q023</th>\n",
       "      <th>Q024</th>\n",
       "      <th>Q025</th>\n",
       "    </tr>\n",
       "  </thead>\n",
       "  <tbody>\n",
       "    <tr>\n",
       "      <th>4</th>\n",
       "      <td>190001237802</td>\n",
       "      <td>2019</td>\n",
       "      <td>3118601</td>\n",
       "      <td>Contagem</td>\n",
       "      <td>31</td>\n",
       "      <td>MG</td>\n",
       "      <td>22.0</td>\n",
       "      <td>F</td>\n",
       "      <td>1</td>\n",
       "      <td>1</td>\n",
       "      <td>...</td>\n",
       "      <td>B</td>\n",
       "      <td>A</td>\n",
       "      <td>A</td>\n",
       "      <td>B</td>\n",
       "      <td>A</td>\n",
       "      <td>A</td>\n",
       "      <td>C</td>\n",
       "      <td>B</td>\n",
       "      <td>B</td>\n",
       "      <td>B</td>\n",
       "    </tr>\n",
       "    <tr>\n",
       "      <th>14</th>\n",
       "      <td>190001237803</td>\n",
       "      <td>2019</td>\n",
       "      <td>3170206</td>\n",
       "      <td>Uberlândia</td>\n",
       "      <td>31</td>\n",
       "      <td>MG</td>\n",
       "      <td>30.0</td>\n",
       "      <td>F</td>\n",
       "      <td>1</td>\n",
       "      <td>2</td>\n",
       "      <td>...</td>\n",
       "      <td>A</td>\n",
       "      <td>A</td>\n",
       "      <td>A</td>\n",
       "      <td>B</td>\n",
       "      <td>A</td>\n",
       "      <td>A</td>\n",
       "      <td>B</td>\n",
       "      <td>A</td>\n",
       "      <td>A</td>\n",
       "      <td>A</td>\n",
       "    </tr>\n",
       "    <tr>\n",
       "      <th>25</th>\n",
       "      <td>190001237804</td>\n",
       "      <td>2019</td>\n",
       "      <td>3124104</td>\n",
       "      <td>Esmeraldas</td>\n",
       "      <td>31</td>\n",
       "      <td>MG</td>\n",
       "      <td>27.0</td>\n",
       "      <td>M</td>\n",
       "      <td>1</td>\n",
       "      <td>3</td>\n",
       "      <td>...</td>\n",
       "      <td>A</td>\n",
       "      <td>A</td>\n",
       "      <td>A</td>\n",
       "      <td>B</td>\n",
       "      <td>A</td>\n",
       "      <td>B</td>\n",
       "      <td>C</td>\n",
       "      <td>A</td>\n",
       "      <td>A</td>\n",
       "      <td>A</td>\n",
       "    </tr>\n",
       "    <tr>\n",
       "      <th>32</th>\n",
       "      <td>190001237805</td>\n",
       "      <td>2019</td>\n",
       "      <td>3118304</td>\n",
       "      <td>Conselheiro Lafaiete</td>\n",
       "      <td>31</td>\n",
       "      <td>MG</td>\n",
       "      <td>22.0</td>\n",
       "      <td>F</td>\n",
       "      <td>1</td>\n",
       "      <td>1</td>\n",
       "      <td>...</td>\n",
       "      <td>B</td>\n",
       "      <td>A</td>\n",
       "      <td>B</td>\n",
       "      <td>C</td>\n",
       "      <td>B</td>\n",
       "      <td>A</td>\n",
       "      <td>E</td>\n",
       "      <td>A</td>\n",
       "      <td>B</td>\n",
       "      <td>B</td>\n",
       "    </tr>\n",
       "    <tr>\n",
       "      <th>38</th>\n",
       "      <td>190001237806</td>\n",
       "      <td>2019</td>\n",
       "      <td>3162922</td>\n",
       "      <td>São Joaquim de Bicas</td>\n",
       "      <td>31</td>\n",
       "      <td>MG</td>\n",
       "      <td>23.0</td>\n",
       "      <td>F</td>\n",
       "      <td>1</td>\n",
       "      <td>4</td>\n",
       "      <td>...</td>\n",
       "      <td>B</td>\n",
       "      <td>A</td>\n",
       "      <td>A</td>\n",
       "      <td>B</td>\n",
       "      <td>B</td>\n",
       "      <td>A</td>\n",
       "      <td>C</td>\n",
       "      <td>A</td>\n",
       "      <td>B</td>\n",
       "      <td>B</td>\n",
       "    </tr>\n",
       "    <tr>\n",
       "      <th>...</th>\n",
       "      <td>...</td>\n",
       "      <td>...</td>\n",
       "      <td>...</td>\n",
       "      <td>...</td>\n",
       "      <td>...</td>\n",
       "      <td>...</td>\n",
       "      <td>...</td>\n",
       "      <td>...</td>\n",
       "      <td>...</td>\n",
       "      <td>...</td>\n",
       "      <td>...</td>\n",
       "      <td>...</td>\n",
       "      <td>...</td>\n",
       "      <td>...</td>\n",
       "      <td>...</td>\n",
       "      <td>...</td>\n",
       "      <td>...</td>\n",
       "      <td>...</td>\n",
       "      <td>...</td>\n",
       "      <td>...</td>\n",
       "      <td>...</td>\n",
       "    </tr>\n",
       "    <tr>\n",
       "      <th>112744</th>\n",
       "      <td>190005766803</td>\n",
       "      <td>2019</td>\n",
       "      <td>3171204</td>\n",
       "      <td>Vespasiano</td>\n",
       "      <td>31</td>\n",
       "      <td>MG</td>\n",
       "      <td>23.0</td>\n",
       "      <td>M</td>\n",
       "      <td>1</td>\n",
       "      <td>2</td>\n",
       "      <td>...</td>\n",
       "      <td>B</td>\n",
       "      <td>A</td>\n",
       "      <td>A</td>\n",
       "      <td>C</td>\n",
       "      <td>A</td>\n",
       "      <td>B</td>\n",
       "      <td>D</td>\n",
       "      <td>A</td>\n",
       "      <td>B</td>\n",
       "      <td>B</td>\n",
       "    </tr>\n",
       "    <tr>\n",
       "      <th>112768</th>\n",
       "      <td>190005766804</td>\n",
       "      <td>2019</td>\n",
       "      <td>3170206</td>\n",
       "      <td>Uberlândia</td>\n",
       "      <td>31</td>\n",
       "      <td>MG</td>\n",
       "      <td>28.0</td>\n",
       "      <td>F</td>\n",
       "      <td>2</td>\n",
       "      <td>1</td>\n",
       "      <td>...</td>\n",
       "      <td>A</td>\n",
       "      <td>A</td>\n",
       "      <td>B</td>\n",
       "      <td>B</td>\n",
       "      <td>B</td>\n",
       "      <td>B</td>\n",
       "      <td>C</td>\n",
       "      <td>B</td>\n",
       "      <td>B</td>\n",
       "      <td>B</td>\n",
       "    </tr>\n",
       "    <tr>\n",
       "      <th>112779</th>\n",
       "      <td>190005766805</td>\n",
       "      <td>2019</td>\n",
       "      <td>3162500</td>\n",
       "      <td>São João del Rei</td>\n",
       "      <td>31</td>\n",
       "      <td>MG</td>\n",
       "      <td>20.0</td>\n",
       "      <td>M</td>\n",
       "      <td>1</td>\n",
       "      <td>4</td>\n",
       "      <td>...</td>\n",
       "      <td>B</td>\n",
       "      <td>A</td>\n",
       "      <td>B</td>\n",
       "      <td>C</td>\n",
       "      <td>B</td>\n",
       "      <td>B</td>\n",
       "      <td>C</td>\n",
       "      <td>B</td>\n",
       "      <td>B</td>\n",
       "      <td>B</td>\n",
       "    </tr>\n",
       "    <tr>\n",
       "      <th>112780</th>\n",
       "      <td>190005766806</td>\n",
       "      <td>2019</td>\n",
       "      <td>3158201</td>\n",
       "      <td>Santa Maria do Suaçuí</td>\n",
       "      <td>31</td>\n",
       "      <td>MG</td>\n",
       "      <td>18.0</td>\n",
       "      <td>F</td>\n",
       "      <td>1</td>\n",
       "      <td>3</td>\n",
       "      <td>...</td>\n",
       "      <td>A</td>\n",
       "      <td>A</td>\n",
       "      <td>A</td>\n",
       "      <td>B</td>\n",
       "      <td>A</td>\n",
       "      <td>A</td>\n",
       "      <td>B</td>\n",
       "      <td>A</td>\n",
       "      <td>A</td>\n",
       "      <td>A</td>\n",
       "    </tr>\n",
       "    <tr>\n",
       "      <th>112799</th>\n",
       "      <td>190005766807</td>\n",
       "      <td>2019</td>\n",
       "      <td>3171303</td>\n",
       "      <td>Viçosa</td>\n",
       "      <td>31</td>\n",
       "      <td>MG</td>\n",
       "      <td>29.0</td>\n",
       "      <td>F</td>\n",
       "      <td>1</td>\n",
       "      <td>3</td>\n",
       "      <td>...</td>\n",
       "      <td>A</td>\n",
       "      <td>A</td>\n",
       "      <td>A</td>\n",
       "      <td>B</td>\n",
       "      <td>A</td>\n",
       "      <td>A</td>\n",
       "      <td>B</td>\n",
       "      <td>A</td>\n",
       "      <td>A</td>\n",
       "      <td>A</td>\n",
       "    </tr>\n",
       "  </tbody>\n",
       "</table>\n",
       "<p>538896 rows × 136 columns</p>\n",
       "</div>"
      ],
      "text/plain": [
       "        NU_INSCRICAO  NU_ANO  CO_MUNICIPIO_RESIDENCIA NO_MUNICIPIO_RESIDENCIA  \\\n",
       "4       190001237802    2019                  3118601                Contagem   \n",
       "14      190001237803    2019                  3170206              Uberlândia   \n",
       "25      190001237804    2019                  3124104              Esmeraldas   \n",
       "32      190001237805    2019                  3118304    Conselheiro Lafaiete   \n",
       "38      190001237806    2019                  3162922    São Joaquim de Bicas   \n",
       "...              ...     ...                      ...                     ...   \n",
       "112744  190005766803    2019                  3171204              Vespasiano   \n",
       "112768  190005766804    2019                  3170206              Uberlândia   \n",
       "112779  190005766805    2019                  3162500        São João del Rei   \n",
       "112780  190005766806    2019                  3158201   Santa Maria do Suaçuí   \n",
       "112799  190005766807    2019                  3171303                  Viçosa   \n",
       "\n",
       "        CO_UF_RESIDENCIA SG_UF_RESIDENCIA  NU_IDADE TP_SEXO  TP_ESTADO_CIVIL  \\\n",
       "4                     31               MG      22.0       F                1   \n",
       "14                    31               MG      30.0       F                1   \n",
       "25                    31               MG      27.0       M                1   \n",
       "32                    31               MG      22.0       F                1   \n",
       "38                    31               MG      23.0       F                1   \n",
       "...                  ...              ...       ...     ...              ...   \n",
       "112744                31               MG      23.0       M                1   \n",
       "112768                31               MG      28.0       F                2   \n",
       "112779                31               MG      20.0       M                1   \n",
       "112780                31               MG      18.0       F                1   \n",
       "112799                31               MG      29.0       F                1   \n",
       "\n",
       "        TP_COR_RACA  ...  Q016  Q017 Q018  Q019 Q020  Q021  Q022  Q023  Q024  \\\n",
       "4                 1  ...     B     A    A     B    A     A     C     B     B   \n",
       "14                2  ...     A     A    A     B    A     A     B     A     A   \n",
       "25                3  ...     A     A    A     B    A     B     C     A     A   \n",
       "32                1  ...     B     A    B     C    B     A     E     A     B   \n",
       "38                4  ...     B     A    A     B    B     A     C     A     B   \n",
       "...             ...  ...   ...   ...  ...   ...  ...   ...   ...   ...   ...   \n",
       "112744            2  ...     B     A    A     C    A     B     D     A     B   \n",
       "112768            1  ...     A     A    B     B    B     B     C     B     B   \n",
       "112779            4  ...     B     A    B     C    B     B     C     B     B   \n",
       "112780            3  ...     A     A    A     B    A     A     B     A     A   \n",
       "112799            3  ...     A     A    A     B    A     A     B     A     A   \n",
       "\n",
       "        Q025  \n",
       "4          B  \n",
       "14         A  \n",
       "25         A  \n",
       "32         B  \n",
       "38         B  \n",
       "...      ...  \n",
       "112744     B  \n",
       "112768     B  \n",
       "112779     B  \n",
       "112780     A  \n",
       "112799     A  \n",
       "\n",
       "[538896 rows x 136 columns]"
      ]
     },
     "execution_count": 22,
     "metadata": {},
     "output_type": "execute_result"
    }
   ],
   "source": [
    "data"
   ]
  },
  {
   "cell_type": "code",
   "execution_count": 30,
   "metadata": {},
   "outputs": [],
   "source": [
    "data.to_csv('MG.csv')"
   ]
  },
  {
   "cell_type": "code",
   "execution_count": 31,
   "metadata": {},
   "outputs": [
    {
     "data": {
      "text/plain": [
       "Index(['NU_INSCRICAO', 'NU_ANO', 'CO_MUNICIPIO_RESIDENCIA',\n",
       "       'NO_MUNICIPIO_RESIDENCIA', 'CO_UF_RESIDENCIA', 'SG_UF_RESIDENCIA',\n",
       "       'NU_IDADE', 'TP_SEXO', 'TP_ESTADO_CIVIL', 'TP_COR_RACA',\n",
       "       ...\n",
       "       'Q016', 'Q017', 'Q018', 'Q019', 'Q020', 'Q021', 'Q022', 'Q023', 'Q024',\n",
       "       'Q025'],\n",
       "      dtype='object', length=136)"
      ]
     },
     "execution_count": 31,
     "metadata": {},
     "output_type": "execute_result"
    }
   ],
   "source": [
    "data.columns"
   ]
  },
  {
   "cell_type": "code",
   "execution_count": 49,
   "metadata": {},
   "outputs": [],
   "source": [
    "data['NU_NOTA_MT'] = data['NU_NOTA_MT'].apply(pd.to_numeric, errors='ignore')\n",
    "data['NU_NOTA_CN'] = data['NU_NOTA_CN'].apply(pd.to_numeric, errors='ignore')\n",
    "data['NU_NOTA_CH'] = data['NU_NOTA_CH'].apply(pd.to_numeric, errors='ignore')\n",
    "data['NU_NOTA_LC'] = data['NU_NOTA_LC'].apply(pd.to_numeric, errors='ignore')"
   ]
  },
  {
   "cell_type": "code",
   "execution_count": 48,
   "metadata": {},
   "outputs": [
    {
     "data": {
      "text/plain": [
       "546.796207651218"
      ]
     },
     "execution_count": 48,
     "metadata": {},
     "output_type": "execute_result"
    }
   ],
   "source": [
    "# média da nota em matemática de todos os alunos mineiros\n",
    "data.NU_NOTA_MT.mean()"
   ]
  },
  {
   "cell_type": "code",
   "execution_count": 50,
   "metadata": {},
   "outputs": [
    {
     "data": {
      "text/plain": [
       "531.2155500475569"
      ]
     },
     "execution_count": 50,
     "metadata": {},
     "output_type": "execute_result"
    }
   ],
   "source": [
    "#média da nota em Linguagens e Códigos de todos os alunos mineiros\n",
    "data.NU_NOTA_LC.mean()"
   ]
  },
  {
   "cell_type": "code",
   "execution_count": 52,
   "metadata": {},
   "outputs": [
    {
     "data": {
      "text/plain": [
       "515.1270983575348"
      ]
     },
     "execution_count": 52,
     "metadata": {},
     "output_type": "execute_result"
    }
   ],
   "source": [
    "#média da nota em Ciências Humanas dos alunos do sexo FEMININO mineiros\n",
    "data.loc[\n",
    "    data.TP_SEXO == 'F', 'NU_NOTA_CH'\n",
    "].mean()"
   ]
  },
  {
   "cell_type": "code",
   "execution_count": 53,
   "metadata": {},
   "outputs": [
    {
     "data": {
      "text/plain": [
       "529.6982704731556"
      ]
     },
     "execution_count": 53,
     "metadata": {},
     "output_type": "execute_result"
    }
   ],
   "source": [
    "#média da nota em Ciências Humanas dos alunos do sexo MASCULINO\n",
    "data.loc[\n",
    "    data.TP_SEXO == 'M', 'NU_NOTA_CH'\n",
    "].mean()"
   ]
  },
  {
   "cell_type": "code",
   "execution_count": 60,
   "metadata": {},
   "outputs": [
    {
     "data": {
      "text/plain": [
       "525.4776724249901"
      ]
     },
     "execution_count": 60,
     "metadata": {},
     "output_type": "execute_result"
    }
   ],
   "source": [
    "#média da nota em Matemática dos alunos do sexo FEMININO que moram na cidade de Montes Claros\n",
    "data.loc[\n",
    "    (data.TP_SEXO == 'F')&(data.NO_MUNICIPIO_RESIDENCIA == 'Montes Claros'), 'NU_NOTA_MT'\n",
    "].mean()"
   ]
  },
  {
   "cell_type": "code",
   "execution_count": 61,
   "metadata": {},
   "outputs": [
    {
     "data": {
      "text/plain": [
       "543.2927556818181"
      ]
     },
     "execution_count": 61,
     "metadata": {},
     "output_type": "execute_result"
    }
   ],
   "source": [
    "#média da nota em Matemática dos alunos do município de Sabará que possuem TV por assinatura na residência\n",
    "data.loc[\n",
    "    (data.Q021 == 'B')&(data.NO_MUNICIPIO_RESIDENCIA == 'Sabará'), 'NU_NOTA_MT'\n",
    "].mean()"
   ]
  },
  {
   "cell_type": "code",
   "execution_count": 62,
   "metadata": {},
   "outputs": [
    {
     "data": {
      "text/plain": [
       "557.2765986394558"
      ]
     },
     "execution_count": 62,
     "metadata": {},
     "output_type": "execute_result"
    }
   ],
   "source": [
    "#média da nota em Ciências Humanas dos alunos mineiros que possuem dois fornos micro-ondas em casa\n",
    "data.loc[\n",
    "    data.Q016 == 'C', 'NU_NOTA_CH'\n",
    "].mean()"
   ]
  },
  {
   "cell_type": "code",
   "execution_count": 63,
   "metadata": {},
   "outputs": [
    {
     "data": {
      "text/plain": [
       "620.0070620709803"
      ]
     },
     "execution_count": 63,
     "metadata": {},
     "output_type": "execute_result"
    }
   ],
   "source": [
    "#média em Matemática dos alunos mineiros cuja mãe completou a pós-graduação\n",
    "data.loc[\n",
    "    data.Q002 == 'G', 'NU_NOTA_MT'\n",
    "].mean()"
   ]
  },
  {
   "cell_type": "code",
   "execution_count": 69,
   "metadata": {},
   "outputs": [
    {
     "data": {
      "text/plain": [
       "578.0392265100086"
      ]
     },
     "execution_count": 69,
     "metadata": {},
     "output_type": "execute_result"
    }
   ],
   "source": [
    "#média em Matemática dos alunos de Belo Horizonte e de Conselheiro Lafaiete\n",
    "data.loc[\n",
    "    (data.NO_MUNICIPIO_RESIDENCIA == 'Belo Horizonte')|(data.NO_MUNICIPIO_RESIDENCIA == 'Conselheiro Lafaiete'), 'NU_NOTA_MT'\n",
    "].mean()"
   ]
  },
  {
   "cell_type": "code",
   "execution_count": 70,
   "metadata": {},
   "outputs": [
    {
     "data": {
      "text/plain": [
       "534.4573388609207"
      ]
     },
     "execution_count": 70,
     "metadata": {},
     "output_type": "execute_result"
    }
   ],
   "source": [
    "#média em Ciências Humanas dos alunos mineiros que moram sozinhos\n",
    "data.loc[\n",
    "    data.Q005== 1, 'NU_NOTA_CH'\n",
    "].mean()"
   ]
  },
  {
   "cell_type": "code",
   "execution_count": 72,
   "metadata": {},
   "outputs": [
    {
     "data": {
      "text/plain": [
       "586.7231663685158"
      ]
     },
     "execution_count": 72,
     "metadata": {},
     "output_type": "execute_result"
    }
   ],
   "source": [
    "#média em Ciências Humanas \n",
    "#dos alunos mineiros cujo pai completou pós-graduação e possuem renda familiar entre R$ 8.982,01 e R$ 9.980,00\n",
    "data.loc[\n",
    "    (data.Q006 == 'M')&(data.Q001== 'G'), 'NU_NOTA_CH'\n",
    "].mean()"
   ]
  },
  {
   "cell_type": "code",
   "execution_count": 74,
   "metadata": {},
   "outputs": [
    {
     "data": {
      "text/plain": [
       "510.80950782997775"
      ]
     },
     "execution_count": 74,
     "metadata": {},
     "output_type": "execute_result"
    }
   ],
   "source": [
    "#média em Matemática dos alunos do sexo Feminino que moram em Lavras e escolheram “Espanhol” como língua estrangeira\n",
    "data.loc[\n",
    "    (data.TP_SEXO == 'F')&(data.NO_MUNICIPIO_RESIDENCIA == 'Lavras')&(data.TP_LINGUA == 1), 'NU_NOTA_MT'\n",
    "].mean()"
   ]
  },
  {
   "cell_type": "code",
   "execution_count": 75,
   "metadata": {},
   "outputs": [
    {
     "data": {
      "text/plain": [
       "555.0832520325196"
      ]
     },
     "execution_count": 75,
     "metadata": {},
     "output_type": "execute_result"
    }
   ],
   "source": [
    "#média em Matemática dos alunos do sexo Masculino que moram em Ouro Preto\n",
    "data.loc[\n",
    "    (data.TP_SEXO == 'M')&(data.NO_MUNICIPIO_RESIDENCIA == 'Ouro Preto'), 'NU_NOTA_MT'\n",
    "].mean()"
   ]
  },
  {
   "cell_type": "code",
   "execution_count": 76,
   "metadata": {},
   "outputs": [
    {
     "data": {
      "text/plain": [
       "435.38796296296283"
      ]
     },
     "execution_count": 76,
     "metadata": {},
     "output_type": "execute_result"
    }
   ],
   "source": [
    "#nota média em Ciências Humanas dos alunos surdos\n",
    "data.loc[\n",
    "    data.IN_SURDEZ== 1, 'NU_NOTA_CH'\n",
    "].mean()"
   ]
  },
  {
   "cell_type": "code",
   "execution_count": 83,
   "metadata": {},
   "outputs": [
    {
     "data": {
      "text/plain": [
       "582.1935483870968"
      ]
     },
     "execution_count": 83,
     "metadata": {},
     "output_type": "execute_result"
    }
   ],
   "source": [
    "#média em Matemática dos alunos do sexo FEMININO, \n",
    "#que moram em Belo Horizonte, Sabará, Nova Lima e Betim e possuem dislexia\n",
    "data.loc[\n",
    "    ((data.NO_MUNICIPIO_RESIDENCIA == 'Betim')|(data.NO_MUNICIPIO_RESIDENCIA == 'Nova Lima')|(data.NO_MUNICIPIO_RESIDENCIA == 'Belo Horizonte'))\n",
    "    &(data.IN_DISLEXIA == 1)&(data.TP_SEXO == 'F'), 'NU_NOTA_MT'\n",
    "].mean()"
   ]
  }
 ],
 "metadata": {
  "kernelspec": {
   "display_name": "Python 3",
   "language": "python",
   "name": "python3"
  },
  "language_info": {
   "codemirror_mode": {
    "name": "ipython",
    "version": 3
   },
   "file_extension": ".py",
   "mimetype": "text/x-python",
   "name": "python",
   "nbconvert_exporter": "python",
   "pygments_lexer": "ipython3",
   "version": "3.8.5"
  }
 },
 "nbformat": 4,
 "nbformat_minor": 4
}
